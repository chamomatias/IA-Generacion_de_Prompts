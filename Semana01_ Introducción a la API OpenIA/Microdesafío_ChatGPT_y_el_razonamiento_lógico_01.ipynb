{
  "nbformat": 4,
  "nbformat_minor": 0,
  "metadata": {
    "colab": {
      "provenance": []
    },
    "kernelspec": {
      "name": "python3",
      "display_name": "Python 3"
    },
    "language_info": {
      "name": "python"
    }
  },
  "cells": [
    {
      "cell_type": "markdown",
      "source": [
        "# Microdesafío: ChatGPT y el Razonamiento Lógico\n",
        "\n",
        "Este documento describe las instrucciones para desarrollar prompts que permitan evaluar la capacidad de razonamiento lógico de ChatGPT en diferentes situaciones. Se presentan tres situaciones, cada una con su respectivo objetivo y un ejemplo de prompt para guiarte en la creación del mismo."
      ],
      "metadata": {
        "id": "5741qS5O36_K"
      }
    },
    {
      "cell_type": "markdown",
      "source": [
        "---\n",
        "## Situación 1: Veracidad de un Enunciado\n",
        "\n",
        "**Descripción:**\n",
        "Existen dos tipos de personas: una que siempre dice la verdad y otra que siempre miente. En esta situación, una persona del grupo que siempre dice la verdad enuncia algo.\n",
        "\n",
        "**Objetivo:**\n",
        "Elabora un prompt que haga que ChatGPT determine si el enunciado es verdadero o no.\n",
        "\n",
        "**Ejemplo de Prompt:**\n"
      ],
      "metadata": {
        "id": "tdXxJ80j4CGi"
      }
    },
    {
      "cell_type": "markdown",
      "source": [
        "# Evaluación de la Veracidad del Enunciado\n",
        "\n",
        "El prompt es el siguiente:\n",
        "\n",
        "> \"Considera que una persona que siempre dice la verdad afirma: 'Existen dos tipos de personas: una que siempre dice la verdad y otra que siempre miente. En esta situación, una persona del grupo que siempre dice la verdad enuncia algo.' ¿Puedes confirmar si este enunciado es verdadero? Explica detalladamente tu razonamiento.\"\n",
        "\n",
        "## Análisis y Razonamiento\n",
        "\n",
        "1. **Fuente de la Afirmación:**  \n",
        "   Se establece que la afirmación proviene de una persona que siempre dice la verdad. Esto implica que todo lo que dicha persona enuncia debe ser tomado como verdadero.\n",
        "\n",
        "2. **Contenido del Enunciado:**  \n",
        "   - El enunciado clasifica a las personas en dos grupos: aquellas que siempre dicen la verdad y aquellas que siempre mienten.  \n",
        "   - Además, se reitera que el enunciado proviene de alguien que pertenece al grupo de los que siempre dicen la verdad.\n",
        "\n",
        "3. **Confirmación de la Veracidad:**  \n",
        "   Debido a que la fuente es invariablemente veraz, podemos concluir que el enunciado es verdadero. No se requiere análisis adicional de la veracidad del contenido, ya que la premisa de que la persona siempre dice la verdad respalda la validez del enunciado.\n",
        "\n",
        "## Conclusión\n",
        "\n",
        "El enunciado es verdadero porque, al provenir de una persona que siempre dice la verdad, se garantiza que lo que se afirma es correcto. La lógica del prompt se basa en aceptar la premisa de veracidad del orador, lo que a su vez confirma la veracidad del enunciado.\n"
      ],
      "metadata": {
        "id": "13s3HinqDfwl"
      }
    },
    {
      "cell_type": "markdown",
      "source": [
        "\n",
        "---\n",
        "\n",
        "## Situación 2: Comparación de Velocidades\n",
        "\n",
        "**Descripción:**\n",
        "Se tiene que una persona corre más rápido que otra, y esta última corre más rápido que una tercera persona.\n",
        "\n",
        "**Objetivo:**\n",
        "Diseña un prompt para que ChatGPT identifique quién es la persona más rápida y quién la más lenta.\n",
        "\n",
        "**Ejemplo de Prompt:**\n"
      ],
      "metadata": {
        "id": "2TcTDCsm4bgL"
      }
    },
    {
      "cell_type": "markdown",
      "source": [
        "\"Considera que la Persona A corre más rápido que la Persona B, y la Persona B corre más rápido que la Persona C. ¿Puedes identificar quién es la persona más rápida y quién es la más lenta? Por favor, explica detalladamente tu razonamiento.\"\n"
      ],
      "metadata": {
        "id": "DXCc1ViCD_TR"
      }
    },
    {
      "cell_type": "markdown",
      "source": [
        "### Respuesta\n",
        "\n",
        "- **Persona A** es la más rápida.\n",
        "- **Persona C** es la más lenta.\n",
        "\n",
        "### Razonamiento Detallado\n",
        "\n",
        "1. Se establece que **Persona A** corre más rápido que **Persona B**.\n",
        "2. Además, se indica que **Persona B** corre más rápido que **Persona C**.\n",
        "3. Aplicando la transitividad de las comparaciones, se deduce que **Persona A** corre más rápido que **Persona C**.\n",
        "4. Por ello, la secuencia de velocidades es: Persona A > Persona B > Persona C, lo que implica que Persona A es la más rápida y Persona C es la más lenta.\n"
      ],
      "metadata": {
        "id": "upBUGAfeELMG"
      }
    },
    {
      "cell_type": "markdown",
      "source": [
        "\n",
        "---\n",
        "\n",
        "## Situación 3: Tiempo de Caza de Gatos y Ratones\n",
        "\n",
        "**Descripción:**\n",
        "Sabemos que 5 gatos pueden cazar 5 ratones en 5 minutos.\n",
        "\n",
        "**Objetivo:**\n",
        "Crea un prompt que permita a ChatGPT calcular cuánto tiempo se necesitará para que 100 gatos cacen 100 ratones.\n",
        "\n",
        "**Ejemplo de Prompt:**\n"
      ],
      "metadata": {
        "id": "Xk-04HVF4jqz"
      }
    },
    {
      "cell_type": "markdown",
      "source": [
        "\"Si 5 gatos pueden cazar 5 ratones en 5 minutos, ¿cuánto tiempo se necesitará para que 100 gatos cacen 100 ratones? Por favor, explica paso a paso tu razonamiento.\"\n"
      ],
      "metadata": {
        "id": "RJuXVHnVEdD1"
      }
    },
    {
      "cell_type": "markdown",
      "source": [
        "### Respuesta\n",
        "\n",
        "**Tiempo Necesario:** 5 minutos\n",
        "\n",
        "**Razonamiento Paso a Paso:**\n",
        "\n",
        "1. La información inicial indica que 5 gatos pueden cazar 5 ratones en 5 minutos, lo que implica que cada gato caza 1 ratón en 5 minutos.\n",
        "\n",
        "2. Si cada gato caza 1 ratón en 5 minutos, el número de gatos no afecta el tiempo individual para cazar un ratón, siempre que actúen de forma independiente.\n",
        "\n",
        "3. Por lo tanto, si tienes 100 gatos, cada uno cazará 1 ratón en 5 minutos.\n",
        "\n",
        "4. Así, 100 gatos cazan 100 ratones en el mismo intervalo de tiempo, es decir, 5 minutos.\n"
      ],
      "metadata": {
        "id": "BOjQcATiEooA"
      }
    },
    {
      "cell_type": "markdown",
      "source": [
        "\n",
        "---\n",
        "\n",
        "## Consejos Generales para Diseñar el Prompt\n",
        "\n",
        "- **Contextualiza la Situación:** Asegúrate de incluir todos los detalles necesarios para que ChatGPT comprenda el problema.\n",
        "- **Pide Justificación:** Solicita que se explique el razonamiento lógico detrás de la respuesta.\n",
        "- **Sé Claro y Conciso:** Elimina ambigüedades y proporciona instrucciones precisas.\n",
        "\n",
        "Utiliza este documento como guía para desarrollar y refinar los prompts que emplearás en las actividades de razonamiento lógico.\n"
      ],
      "metadata": {
        "id": "kgK9z2l64peI"
      }
    }
  ]
}