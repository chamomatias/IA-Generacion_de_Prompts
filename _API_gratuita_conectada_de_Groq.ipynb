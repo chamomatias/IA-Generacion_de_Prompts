{
  "nbformat": 4,
  "nbformat_minor": 0,
  "metadata": {
    "colab": {
      "provenance": []
    },
    "kernelspec": {
      "name": "python3",
      "display_name": "Python 3"
    },
    "language_info": {
      "name": "python"
    }
  },
  "cells": [
    {
      "cell_type": "code",
      "execution_count": 5,
      "metadata": {
        "colab": {
          "base_uri": "https://localhost:8080/"
        },
        "collapsed": true,
        "id": "HLHgCQ-ZJI9N",
        "outputId": "1094959b-ef78-492d-ace9-72a6f09fbdc5"
      },
      "outputs": [
        {
          "output_type": "stream",
          "name": "stdout",
          "text": [
            "Collecting groq\n",
            "  Downloading groq-0.18.0-py3-none-any.whl.metadata (14 kB)\n",
            "Requirement already satisfied: anyio<5,>=3.5.0 in /usr/local/lib/python3.11/dist-packages (from groq) (3.7.1)\n",
            "Requirement already satisfied: distro<2,>=1.7.0 in /usr/local/lib/python3.11/dist-packages (from groq) (1.9.0)\n",
            "Requirement already satisfied: httpx<1,>=0.23.0 in /usr/local/lib/python3.11/dist-packages (from groq) (0.28.1)\n",
            "Requirement already satisfied: pydantic<3,>=1.9.0 in /usr/local/lib/python3.11/dist-packages (from groq) (2.10.6)\n",
            "Requirement already satisfied: sniffio in /usr/local/lib/python3.11/dist-packages (from groq) (1.3.1)\n",
            "Requirement already satisfied: typing-extensions<5,>=4.10 in /usr/local/lib/python3.11/dist-packages (from groq) (4.12.2)\n",
            "Requirement already satisfied: idna>=2.8 in /usr/local/lib/python3.11/dist-packages (from anyio<5,>=3.5.0->groq) (3.10)\n",
            "Requirement already satisfied: certifi in /usr/local/lib/python3.11/dist-packages (from httpx<1,>=0.23.0->groq) (2025.1.31)\n",
            "Requirement already satisfied: httpcore==1.* in /usr/local/lib/python3.11/dist-packages (from httpx<1,>=0.23.0->groq) (1.0.7)\n",
            "Requirement already satisfied: h11<0.15,>=0.13 in /usr/local/lib/python3.11/dist-packages (from httpcore==1.*->httpx<1,>=0.23.0->groq) (0.14.0)\n",
            "Requirement already satisfied: annotated-types>=0.6.0 in /usr/local/lib/python3.11/dist-packages (from pydantic<3,>=1.9.0->groq) (0.7.0)\n",
            "Requirement already satisfied: pydantic-core==2.27.2 in /usr/local/lib/python3.11/dist-packages (from pydantic<3,>=1.9.0->groq) (2.27.2)\n",
            "Downloading groq-0.18.0-py3-none-any.whl (121 kB)\n",
            "\u001b[?25l   \u001b[90m━━━━━━━━━━━━━━━━━━━━━━━━━━━━━━━━━━━━━━━━\u001b[0m \u001b[32m0.0/121.9 kB\u001b[0m \u001b[31m?\u001b[0m eta \u001b[36m-:--:--\u001b[0m\r\u001b[2K   \u001b[90m━━━━━━━━━━━━━━━━━━━━━━━━━━━━━━━━━━━━━━━━\u001b[0m \u001b[32m121.9/121.9 kB\u001b[0m \u001b[31m5.0 MB/s\u001b[0m eta \u001b[36m0:00:00\u001b[0m\n",
            "\u001b[?25hInstalling collected packages: groq\n",
            "Successfully installed groq-0.18.0\n"
          ]
        }
      ],
      "source": [
        "pip install groq"
      ]
    },
    {
      "cell_type": "markdown",
      "source": [
        "CONEXION A OPENAI"
      ],
      "metadata": {
        "id": "jDLWEK3QJPoS"
      }
    },
    {
      "cell_type": "code",
      "source": [
        "from groq import Groq"
      ],
      "metadata": {
        "id": "8iWln1I1JTdB"
      },
      "execution_count": 6,
      "outputs": []
    },
    {
      "cell_type": "code",
      "source": [
        "cliente = Groq(api_key=\"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\")"
      ],
      "metadata": {
        "id": "V7erOzxXNT7u"
      },
      "execution_count": 15,
      "outputs": []
    },
    {
      "cell_type": "code",
      "source": [
        "# Asegúrate de que el objeto 'cliente' esté configurado correctamente\n",
        "# y de haber instalado las dependencias necesarias para su uso en Colab.\n",
        "\n",
        "def main():\n",
        "    try:\n",
        "        prompt = input(\"Escribe tu pregunta: \")\n",
        "        respuesta = cliente.chat.completions.create(\n",
        "            model=\"llama3-8b-8192\",\n",
        "            messages=[\n",
        "                {\n",
        "                    \"role\": \"user\",\n",
        "                    \"content\": prompt,\n",
        "                }\n",
        "            ]\n",
        "        )\n",
        "        print(\"\\nRespuesta del modelo:\\n\")\n",
        "        print(respuesta.choices[0].message.content)\n",
        "    except Exception as error:\n",
        "        print(\"Ocurrió un error:\", error)\n",
        "\n",
        "main()\n"
      ],
      "metadata": {
        "colab": {
          "base_uri": "https://localhost:8080/"
        },
        "id": "AZisrMgebMGI",
        "outputId": "16365b30-0430-423a-f934-36c07585b3c6"
      },
      "execution_count": 16,
      "outputs": [
        {
          "output_type": "stream",
          "name": "stdout",
          "text": [
            "Escribe tu pregunta: porque es mejor usar try y except en el codigo que te pase?\n",
            "\n",
            "Respuesta del modelo:\n",
            "\n",
            "La razón fundamental por la que se recomienda usar `try` y `except` en el código es para manejar errores y excepciones de manera eficiente y segura. Aquí hay algunas razones por las que es recomendable usarlas:\n",
            "\n",
            "1. ** Manejo de errores**: Los errores y excepciones pueden ocurrir en cualquier momento durante la ejecución del código, por lo que es importante tener un mecanismo para manejarlos. El bloque `try` permite ejecutar un conjunto de instrucciones y, en caso de que se produzca un error, se puede manejar el error en el bloque `except`.\n",
            "2. **Seguridad**: Al manejar errores y excepciones de manera efectiva, se pueden evitar problemas como la propagación de errores, que pueden hacer que el programa se cierre o produzca resultados incorrectos.\n",
            "3. **Legibilidad y mantenibilidad**: El uso de `try` y `except` permiten agregar comentarios y comentarios que expliquen qué errores se están intentando manejar, lo que puede hacer que el código sea más legible y fácil de mantener.\n",
            "4. **Performance**: Al manejar errores y excepciones adecuadamente, se pueden evitar problemas de performance, como el bloqueo del programa o la pérdida de datos.\n",
            "5. **Compatibilidad**: La mayoría de los lenguajes de programación modernos, como Python, Java, C# y JavaScript, admiten el uso de `try` y `except` para manejar errores y excepciones.\n",
            "6. **Reutilización del código**: Al manejar errores y excepciones de manera eficiente, se pueden reutilizar bloques de código y evitar la repetición de código.\n",
            "\n",
            "Algunos ejemplos de cómo se pueden utilizar `try` y `except` de manera efectiva incluyen:\n",
            "\n",
            "* Manejo de errores de archivo: Al intentar abrir un archivo, puede ocurrir un error de acceso denegado. El bloque `try` y `except` permiten gestionar este error y mostrar un mensaje de error amable al usuario.\n",
            "* Manejo de errores de networking: Al intentar conectarse a un servidor, puede ocurrir un error de conexión denegada. El bloque `try` y `except` permiten gestionar este error y mostrar un mensaje de error amable al usuario.\n",
            "\n",
            "Sin embargo, es importante tener en cuenta que el uso excesivo o innecesario de `try` y `except` puede hacer que el código sea más complicado y difícil de depurar. Es importante usarlos de manera razonable y sólida para lograr un código eficiente y fácil de mantener.\n"
          ]
        }
      ]
    }
  ]
}