{
  "nbformat": 4,
  "nbformat_minor": 0,
  "metadata": {
    "colab": {
      "provenance": []
    },
    "kernelspec": {
      "name": "python3",
      "display_name": "Python 3"
    },
    "language_info": {
      "name": "python"
    }
  },
  "cells": [
    {
      "cell_type": "markdown",
      "source": [
        "---\n",
        "\n",
        "# **DecoIA Notebook: Asistente de Decoración Personalizada en Python**\n",
        "\n",
        "Este notebook genera recomendaciones de decoración basadas en las preferencias del usuario utilizando **inteligencia artificial** para la generación de **texto e imágenes**.\n",
        "\n",
        "    "
      ],
      "metadata": {
        "id": "M90tNU_IAsv0"
      }
    },
    {
      "cell_type": "markdown",
      "source": [
        "---\n",
        "\n",
        "##1. Recopilación de Datos del Usuario**\n",
        "El usuario debe ingresar sus preferencias, incluyendo **estilo decorativo, colores favoritos y necesidades**.\n",
        "\n",
        "```python\n",
        "import ipywidgets as widgets\n",
        "from IPython.display import display\n",
        "\n",
        "# Widgets para capturar información del usuario\n",
        "estilo = widgets.Dropdown(\n",
        "    options=['Minimalista', 'Moderno', 'Clásico', 'Industrial', 'Escandinavo'],\n",
        "    description='Estilo:'\n",
        ")\n",
        "colores = widgets.Text(\n",
        "    description='Colores:'\n",
        ")\n",
        "ambiente = widgets.Dropdown(\n",
        "    options=['Sala', 'Dormitorio', 'Cocina', 'Oficina'],\n",
        "    description='Ambiente:'\n",
        ")\n",
        "\n",
        "display(estilo, colores, ambiente)\n"
      ],
      "metadata": {
        "id": "gtbeDT0kDU7j"
      }
    },
    {
      "cell_type": "markdown",
      "source": [
        "---\n",
        "\n",
        "##2. Generación de Propuesta Textual con IA\n",
        "Se utilizará OpenAI GPT para generar una propuesta de decoración basada en los datos ingresados."
      ],
      "metadata": {
        "id": "_bz_QWn9A8gA"
      }
    },
    {
      "cell_type": "code",
      "source": [
        "import openai\n",
        "\n",
        "# Función para generar el prompt y obtener la respuesta de OpenAI\n",
        "def generar_propuesta(estilo, colores, ambiente):\n",
        "    prompt = f\"Genera una propuesta de decoración para un ambiente {ambiente} con un estilo {estilo}.\" \\\n",
        "             f\" La paleta de colores debe incluir {colores}.\"\n",
        "\n",
        "    respuesta = openai.ChatCompletion.create(\n",
        "        model=\"gpt-4\",\n",
        "        messages=[{\"role\": \"user\", \"content\": prompt}]\n",
        "    )\n",
        "    return respuesta['choices'][0]['message']['content']\n",
        "\n",
        "# Ejemplo de uso (requiere clave de API)\n",
        "# propuesta = generar_propuesta(estilo.value, colores.value, ambiente.value)\n",
        "# print(propuesta)\n"
      ],
      "metadata": {
        "id": "2amLmy8uA-7w"
      },
      "execution_count": null,
      "outputs": []
    },
    {
      "cell_type": "markdown",
      "source": [
        "---\n",
        "\n",
        "## 3. Generación de Imagen con IA\n",
        "Usaremos una API de generación de imágenes para visualizar el concepto generado."
      ],
      "metadata": {
        "id": "IZqtCKhSBHLI"
      }
    },
    {
      "cell_type": "code",
      "source": [
        "# Simulación de generación de imagen (se debe integrar con una API como DALL-E o Stable Diffusion)\n",
        "from IPython.display import Image\n",
        "\n",
        "def generar_imagen(estilo, colores, ambiente):\n",
        "    # Aquí se integraría la API de generación de imágenes con un prompt basado en la propuesta generada.\n",
        "    print(f\"Generando imagen para un ambiente {ambiente} de estilo {estilo} con colores {colores}...\")\n",
        "\n",
        "    # Simulación de resultado (reemplazar con integración real)\n",
        "    return Image(url=\"https://via.placeholder.com/400\")\n",
        "\n",
        "# Ejemplo de uso (descomentar cuando se integre la API)\n",
        "# img = generar_imagen(estilo.value, colores.value, ambiente.value)\n",
        "# display(img)\n"
      ],
      "metadata": {
        "id": "GHOCJwLSBVuu"
      },
      "execution_count": null,
      "outputs": []
    },
    {
      "cell_type": "markdown",
      "source": [
        "---\n",
        "##4. Presentación de Resultados\n",
        "Se mostrarán la propuesta generada y la imagen correspondiente."
      ],
      "metadata": {
        "id": "AWE4gG4pBZpY"
      }
    }
  ]
}